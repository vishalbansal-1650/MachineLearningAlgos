{
 "cells": [
  {
   "cell_type": "code",
   "execution_count": 17,
   "metadata": {},
   "outputs": [],
   "source": [
    "import numpy as np\n",
    "\n",
    "from sklearn.datasets import load_iris\n",
    "from sklearn.model_selection import cross_val_score"
   ]
  },
  {
   "cell_type": "code",
   "execution_count": 27,
   "metadata": {},
   "outputs": [],
   "source": [
    "iris = load_iris()"
   ]
  },
  {
   "cell_type": "code",
   "execution_count": 28,
   "metadata": {},
   "outputs": [
    {
     "name": "stdout",
     "output_type": "stream",
     "text": [
      "Logistic Regression Score: [0.96 0.96 0.94]\n",
      "Average Score: 0.9533333333333333\n"
     ]
    }
   ],
   "source": [
    "## Logistic Regression\n",
    "\n",
    "from sklearn.linear_model import LogisticRegression\n",
    "\n",
    "lr_model = LogisticRegression(solver='liblinear',multi_class='ovr')\n",
    "\n",
    "s1 = cross_val_score(lr_model,iris.data,iris.target,cv=3)\n",
    "\n",
    "print(\"Logistic Regression Score:\", s1)\n",
    "print(\"Average Score:\", np.average(s1))\n"
   ]
  },
  {
   "cell_type": "code",
   "execution_count": 30,
   "metadata": {},
   "outputs": [
    {
     "name": "stdout",
     "output_type": "stream",
     "text": [
      "SVM Score [0.98 0.98 0.96]\n",
      "Average Score 0.9733333333333333\n"
     ]
    }
   ],
   "source": [
    "## SVM\n",
    "\n",
    "from sklearn.svm import SVC\n",
    "\n",
    "svm_model = SVC(gamma='auto')\n",
    "\n",
    "s2 = cross_val_score(svm_model,iris.data,iris.target,cv=3)\n",
    "\n",
    "print(\"SVM Score:\",s2)\n",
    "print(\"Average Score:\",np.average(s2))"
   ]
  },
  {
   "cell_type": "code",
   "execution_count": 32,
   "metadata": {},
   "outputs": [
    {
     "name": "stdout",
     "output_type": "stream",
     "text": [
      "Random forest score: [0.98 0.94 0.96]\n",
      "Average score: 0.96\n"
     ]
    }
   ],
   "source": [
    "## Radom forest \n",
    "\n",
    "from sklearn.ensemble import RandomForestClassifier\n",
    "\n",
    "rf_model = RandomForestClassifier(n_estimators=40)\n",
    "\n",
    "s3 = cross_val_score(rf_model,iris.data,iris.target,cv=3)\n",
    "\n",
    "print(\"Random forest score:\",s3)\n",
    "print(\"Average score:\",np.average(s3))"
   ]
  },
  {
   "cell_type": "markdown",
   "metadata": {},
   "source": [
    "So svm performs better for this dataset.\n",
    "We can also tweak the model by doing hyperparameter tuning and then fit the model using those parameter"
   ]
  },
  {
   "cell_type": "code",
   "execution_count": null,
   "metadata": {},
   "outputs": [],
   "source": []
  }
 ],
 "metadata": {
  "kernelspec": {
   "display_name": "Python [conda env:py37]",
   "language": "python",
   "name": "conda-env-py37-py"
  },
  "language_info": {
   "codemirror_mode": {
    "name": "ipython",
    "version": 3
   },
   "file_extension": ".py",
   "mimetype": "text/x-python",
   "name": "python",
   "nbconvert_exporter": "python",
   "pygments_lexer": "ipython3",
   "version": "3.7.4"
  }
 },
 "nbformat": 4,
 "nbformat_minor": 2
}
